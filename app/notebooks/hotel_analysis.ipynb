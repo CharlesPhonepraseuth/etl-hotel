{
 "cells": [
  {
   "cell_type": "code",
   "execution_count": 1,
   "id": "4254cb92",
   "metadata": {
    "scrolled": true
   },
   "outputs": [],
   "source": [
    "import sys\n",
    "sys.path.append('..')\n",
    "from src.utils import helper\n",
    "from src.utils.database import DatabaseConnection "
   ]
  },
  {
   "cell_type": "code",
   "execution_count": 2,
   "id": "9769bb87",
   "metadata": {},
   "outputs": [],
   "source": [
    "connection = DatabaseConnection(**helper.get_db_creds())"
   ]
  },
  {
   "cell_type": "code",
   "execution_count": 3,
   "id": "4948ae7a-6f06-4415-9c86-2cdf2bbde2ba",
   "metadata": {},
   "outputs": [
    {
     "name": "stdout",
     "output_type": "stream",
     "text": [
      "   star  frequency\n",
      "0     1        154\n",
      "1     2       1724\n",
      "2     3       2382\n",
      "3     4        676\n",
      "4     5         90\n"
     ]
    }
   ],
   "source": [
    "# What is the distribution of hostel ratings ?\n",
    "query = \"\"\"\n",
    "    SELECT\n",
    "    \tstar,\n",
    "    \tcount(*) AS frequency\n",
    "    FROM fact_hotel\n",
    "    GROUP BY star\n",
    "    ORDER BY star\n",
    "\"\"\"\n",
    "\n",
    "result = connection.read_sql(query)\n",
    "print(result)"
   ]
  },
  {
   "cell_type": "code",
   "execution_count": 4,
   "id": "55a8bc76-d435-469b-b047-b29b25f214d7",
   "metadata": {},
   "outputs": [
    {
     "name": "stdout",
     "output_type": "stream",
     "text": [
      "                               name                city  star  star_rank\n",
      "0                 mercure abbeville           abbeville     4          1\n",
      "1              hôtel ibis abbeville           abbeville     3          2\n",
      "2            hôtel le relais vauban           abbeville     2          3\n",
      "3          hôtel auberge du bel air       abreschviller     2          1\n",
      "4     hôtel mercure golf cap d'agde                agde     4          1\n",
      "...                             ...                 ...   ...        ...\n",
      "5021        auberge du cheval blanc      yvoy-le-marron     3          1\n",
      "5022                 hôtel gardenia               yvrac     3          1\n",
      "5023             relais de la mothe  yzeures-sur-creuse     3          1\n",
      "5024           hôtel le schlossberg          zellenberg     3          1\n",
      "5025              hôtel du tourisme              zicavo     2          1\n",
      "\n",
      "[5026 rows x 4 columns]\n"
     ]
    }
   ],
   "source": [
    "# What is the rank hostels based on their stars within each city ?\n",
    "query = \"\"\"\n",
    "    SELECT\n",
    "    \tdi.name AS name,\n",
    "    \tda.city AS city,\n",
    "    \tfh.star,\n",
    "    \tDENSE_RANK() OVER (PARTITION BY da.city ORDER BY fh.star DESC) AS star_rank\n",
    "    FROM fact_hotel AS fh\n",
    "    JOIN dim_info AS di ON fh.info_id = di.id\n",
    "    JOIN dim_adress AS da ON fh.adress_id = da.id;\n",
    "\"\"\"\n",
    "\n",
    "result = connection.read_sql(query)\n",
    "print(result)"
   ]
  },
  {
   "cell_type": "code",
   "execution_count": 5,
   "id": "284fdea2-ece0-4504-a680-fefffd9e3439",
   "metadata": {},
   "outputs": [
    {
     "name": "stdout",
     "output_type": "stream",
     "text": [
      "  region_num  capacity_nb\n",
      "0         92        19954\n"
     ]
    }
   ],
   "source": [
    "# Which region have the second most capacity ?\n",
    "query = \"\"\"\n",
    "    WITH region AS (\n",
    "    \tSELECT\n",
    "            \tid,\n",
    "            \tLEFT(zip, 2) AS num\n",
    "        \tFROM dim_adress\n",
    "    ),\n",
    "    region_capacity AS (\n",
    "    \tSELECT\n",
    "            \tregion.num AS region_num,\n",
    "            \tSUM(di.capacity) AS capacity_nb,\n",
    "            \tDENSE_RANK() OVER (ORDER BY SUM(di.capacity) DESC) AS capacity_rank\n",
    "    \tFROM fact_hotel AS fh\n",
    "    \tJOIN region ON fh.adress_id = region.id\n",
    "    \tJOIN dim_info AS di ON fh.info_id = di.id\n",
    "    \tGROUP BY region.num\n",
    "    )\n",
    "    SELECT\n",
    "    \tregion_num,\n",
    "    \tcapacity_nb\n",
    "    FROM region_capacity\n",
    "    WHERE capacity_rank = 2;\n",
    "\"\"\"\n",
    "\n",
    "result = connection.read_sql(query)\n",
    "print(result)"
   ]
  },
  {
   "cell_type": "code",
   "execution_count": 6,
   "id": "4b3da1e8-2f22-4256-8731-ea793b8eb9d4",
   "metadata": {},
   "outputs": [
    {
     "name": "stdout",
     "output_type": "stream",
     "text": [
      "   region_num  hotel_count  region_rank\n",
      "0          06          211            1\n",
      "1          74          169            2\n",
      "2          92           88            3\n",
      "3          64           87            4\n",
      "4          67           86            5\n",
      "5          65           77            6\n",
      "6          83           73            7\n",
      "7          44           70            8\n",
      "8          21           70            8\n",
      "9          35           67            9\n",
      "10         68           64           10\n"
     ]
    }
   ],
   "source": [
    "# Which region be a part of top 10 with most hotel who star rating above national average per region ?\n",
    "query = \"\"\"\n",
    "    WITH region AS (\n",
    "    \tSELECT\n",
    "            \tid,\n",
    "            \tLEFT(zip, 2) AS num\n",
    "        \tFROM dim_adress\n",
    "    ),\n",
    "    avg_star AS (\n",
    "    \tSELECT\n",
    "    \t\tROUND(AVG(star), 2) AS value\n",
    "    \tFROM fact_hotel\n",
    "    ),\n",
    "    hotel_data AS (\n",
    "    \tSELECT\n",
    "    \t\tregion.num AS region_num,\n",
    "    \t\tCOUNT(CASE WHEN fh.star > avg_star.value THEN 1 END) as hotel_count,\n",
    "    \t\tDENSE_RANK() OVER (ORDER BY COUNT(CASE WHEN fh.star > avg_star.value THEN 1 END) DESC) AS region_rank\n",
    "    \tFROM fact_hotel AS fh\n",
    "    \tJOIN region ON fh.adress_id = region.id,\n",
    "    \tavg_star\n",
    "    \tGROUP BY region.num\n",
    "    )\n",
    "    SELECT\n",
    "    \tregion_num,\n",
    "    \thotel_count,\n",
    "    \tregion_rank\n",
    "    FROM hotel_data\n",
    "    WHERE region_rank <= 10;\n",
    "\"\"\"\n",
    "\n",
    "result = connection.read_sql(query)\n",
    "print(result)"
   ]
  },
  {
   "cell_type": "code",
   "execution_count": null,
   "id": "210cd8cd-7d99-4048-aafa-7834f7110346",
   "metadata": {},
   "outputs": [],
   "source": []
  }
 ],
 "metadata": {
  "kernelspec": {
   "display_name": "Python 3 (ipykernel)",
   "language": "python",
   "name": "python3"
  },
  "language_info": {
   "codemirror_mode": {
    "name": "ipython",
    "version": 3
   },
   "file_extension": ".py",
   "mimetype": "text/x-python",
   "name": "python",
   "nbconvert_exporter": "python",
   "pygments_lexer": "ipython3",
   "version": "3.9.18"
  }
 },
 "nbformat": 4,
 "nbformat_minor": 5
}
